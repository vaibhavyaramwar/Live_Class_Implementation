{
 "cells": [
  {
   "cell_type": "code",
   "execution_count": 14,
   "metadata": {},
   "outputs": [
    {
     "name": "stdout",
     "output_type": "stream",
     "text": [
      "Multi Level Inheritence\n",
      "child Name :  A\n",
      "Father Name :  B\n",
      "Grand Father Name :  C\n"
     ]
    }
   ],
   "source": [
    "class grand_father:\n",
    "    \n",
    "    def __init__(self,grand_f_name):\n",
    "        self.grand_f_name = grand_f_name\n",
    "        \n",
    "    def grand_father_name(self):\n",
    "        print(\"Grand Father Name : \",self.grand_f_name)\n",
    "        \n",
    "\n",
    "class father(grand_father):\n",
    "    \n",
    "    \n",
    "    def __init__(self,f_name,gf_name):\n",
    "        self.f_name = f_name\n",
    "        grand_father.__init__(self,gf_name)\n",
    "        \n",
    "    def father_name(self):\n",
    "        print(\"Father Name : \",self.f_name)\n",
    "        \n",
    "\n",
    "class child(father):\n",
    "    \n",
    "    \n",
    "    def __init__(self,c_name,f_name,g_name):\n",
    "        self.c_name = c_name\n",
    "        father.__init__(self,f_name,g_name)\n",
    "        \n",
    "    def child_name(self):\n",
    "        print(\"child Name : \",self.c_name)\n",
    "        \n",
    "\n",
    "print(\"Multi Level Inheritence\")\n",
    "c = child(\"A\",\"B\",\"C\")\n",
    "c.child_name()\n",
    "c.father_name()\n",
    "c.grand_father_name()"
   ]
  },
  {
   "cell_type": "code",
   "execution_count": 23,
   "metadata": {},
   "outputs": [
    {
     "name": "stdout",
     "output_type": "stream",
     "text": [
      "This is a method of test class\n",
      "This is a method of test1 class\n",
      "This is a method of test3 class\n"
     ]
    }
   ],
   "source": [
    "class test:\n",
    "    \n",
    "    def test(self):\n",
    "        print(\"This is a method of test class\")\n",
    "        \n",
    "        \n",
    "class test1:\n",
    "    \n",
    "    def test1(self):\n",
    "        print(\"This is a method of test1 class\")\n",
    "        \n",
    "class test3(test,test1):\n",
    "    \n",
    "    def test3(self):\n",
    "        print(\"This is a method of test3 class\")\n",
    "        \n",
    "t = test3()\n",
    "t.test()\n",
    "t.test1()\n",
    "t.test3()"
   ]
  },
  {
   "cell_type": "code",
   "execution_count": 25,
   "metadata": {},
   "outputs": [
    {
     "name": "stdout",
     "output_type": "stream",
     "text": [
      "This is a test exception\n"
     ]
    }
   ],
   "source": [
    "class test_exception(Exception):\n",
    "    \n",
    "    def __init__(self,msg):        \n",
    "        self.msg = msg\n",
    "        \n",
    "        \n",
    "class test_excpt():\n",
    "    \n",
    "    try:\n",
    "        raise(test_exception(\"This is a test exception\"))\n",
    "    except Exception as e:\n",
    "        print(e)"
   ]
  },
  {
   "cell_type": "code",
   "execution_count": 33,
   "metadata": {},
   "outputs": [
    {
     "name": "stdout",
     "output_type": "stream",
     "text": [
      "This is a method os test11\n",
      "This is a method os test12\n"
     ]
    }
   ],
   "source": [
    "class test11:\n",
    "    \n",
    "    def test(self):\n",
    "        print(\"This is a method os test11\")\n",
    "        \n",
    "class test12:\n",
    "    \n",
    "    def test(self):\n",
    "        print(\"This is a method os test12\")\n",
    "        \n",
    "def call_test(t):\n",
    "    t.test()\n",
    "    \n",
    "t11 = test11()\n",
    "t12 = test12()\n",
    "\n",
    "call_test(t11)\n",
    "call_test(t12)"
   ]
  },
  {
   "cell_type": "code",
   "execution_count": 56,
   "metadata": {},
   "outputs": [],
   "source": [
    "class encaps:\n",
    "    \n",
    "    def __init__(self,a,b,c):\n",
    "        \n",
    "        self.a = a\n",
    "        self._b = b\n",
    "        self.__c = c\n",
    "        "
   ]
  },
  {
   "cell_type": "code",
   "execution_count": 57,
   "metadata": {},
   "outputs": [],
   "source": [
    "e = encaps(1,2,3)"
   ]
  },
  {
   "cell_type": "code",
   "execution_count": 58,
   "metadata": {},
   "outputs": [
    {
     "name": "stdout",
     "output_type": "stream",
     "text": [
      "1\n",
      "2\n",
      "3\n"
     ]
    }
   ],
   "source": [
    "print(e.a)\n",
    "print(e._b)\n",
    "print(e._encaps__c)\n",
    "#print(e.__c)"
   ]
  },
  {
   "cell_type": "code",
   "execution_count": 60,
   "metadata": {},
   "outputs": [],
   "source": [
    "class batch_number:\n",
    "    \n",
    "    batch_no = 33\n",
    "    \n",
    "    def __init__(self,a):\n",
    "        \n",
    "        self.a = a\n",
    "        \n",
    "    @staticmethod    \n",
    "    def batch():\n",
    "        print(\"This is a batch test method\")"
   ]
  },
  {
   "cell_type": "code",
   "execution_count": 43,
   "metadata": {},
   "outputs": [],
   "source": [
    "b = batch_number(1)"
   ]
  },
  {
   "cell_type": "code",
   "execution_count": 45,
   "metadata": {},
   "outputs": [
    {
     "data": {
      "text/plain": [
       "1"
      ]
     },
     "execution_count": 45,
     "metadata": {},
     "output_type": "execute_result"
    }
   ],
   "source": [
    "b.a"
   ]
  },
  {
   "cell_type": "code",
   "execution_count": 47,
   "metadata": {},
   "outputs": [],
   "source": [
    "b.batch_no = 11"
   ]
  },
  {
   "cell_type": "code",
   "execution_count": 48,
   "metadata": {},
   "outputs": [
    {
     "data": {
      "text/plain": [
       "11"
      ]
     },
     "execution_count": 48,
     "metadata": {},
     "output_type": "execute_result"
    }
   ],
   "source": [
    "b.batch_no"
   ]
  },
  {
   "cell_type": "code",
   "execution_count": 49,
   "metadata": {},
   "outputs": [],
   "source": [
    "c = batch_number(1)"
   ]
  },
  {
   "cell_type": "code",
   "execution_count": 50,
   "metadata": {},
   "outputs": [
    {
     "data": {
      "text/plain": [
       "1"
      ]
     },
     "execution_count": 50,
     "metadata": {},
     "output_type": "execute_result"
    }
   ],
   "source": [
    "c.a"
   ]
  },
  {
   "cell_type": "code",
   "execution_count": 51,
   "metadata": {},
   "outputs": [
    {
     "data": {
      "text/plain": [
       "33"
      ]
     },
     "execution_count": 51,
     "metadata": {},
     "output_type": "execute_result"
    }
   ],
   "source": [
    "c.batch_no"
   ]
  },
  {
   "cell_type": "code",
   "execution_count": 61,
   "metadata": {},
   "outputs": [
    {
     "name": "stdout",
     "output_type": "stream",
     "text": [
      "This is a batch test method\n"
     ]
    }
   ],
   "source": [
    "batch_number.batch()"
   ]
  },
  {
   "cell_type": "code",
   "execution_count": 63,
   "metadata": {},
   "outputs": [],
   "source": [
    "from abc import abstractmethod"
   ]
  },
  {
   "cell_type": "code",
   "execution_count": 66,
   "metadata": {},
   "outputs": [],
   "source": [
    "\n",
    "class absImpl():\n",
    "    \n",
    "    @abstractmethod\n",
    "    def add(a,b):\n",
    "        pass"
   ]
  },
  {
   "cell_type": "code",
   "execution_count": 67,
   "metadata": {},
   "outputs": [],
   "source": [
    "import abc"
   ]
  },
  {
   "cell_type": "code",
   "execution_count": null,
   "metadata": {},
   "outputs": [],
   "source": []
  },
  {
   "cell_type": "code",
   "execution_count": null,
   "metadata": {},
   "outputs": [],
   "source": []
  },
  {
   "cell_type": "code",
   "execution_count": null,
   "metadata": {},
   "outputs": [],
   "source": []
  }
 ],
 "metadata": {
  "kernelspec": {
   "display_name": "Python 3",
   "language": "python",
   "name": "python3"
  },
  "language_info": {
   "codemirror_mode": {
    "name": "ipython",
    "version": 3
   },
   "file_extension": ".py",
   "mimetype": "text/x-python",
   "name": "python",
   "nbconvert_exporter": "python",
   "pygments_lexer": "ipython3",
   "version": "3.8.3"
  }
 },
 "nbformat": 4,
 "nbformat_minor": 4
}
