{
 "cells": [
  {
   "cell_type": "code",
   "execution_count": 1,
   "metadata": {},
   "outputs": [
    {
     "name": "stdout",
     "output_type": "stream",
     "text": [
      "Requirement already satisfied: cassandra-driver in c:\\users\\vaibhav.yaramwar\\anaconda3\\lib\\site-packages (3.25.0)\n",
      "Requirement already satisfied: geomet<0.3,>=0.1 in c:\\users\\vaibhav.yaramwar\\anaconda3\\lib\\site-packages (from cassandra-driver) (0.2.1.post1)\n",
      "Requirement already satisfied: six>=1.9 in c:\\users\\vaibhav.yaramwar\\anaconda3\\lib\\site-packages (from cassandra-driver) (1.14.0)\n",
      "Requirement already satisfied: click in c:\\users\\vaibhav.yaramwar\\anaconda3\\lib\\site-packages (from geomet<0.3,>=0.1->cassandra-driver) (7.1.2)\n",
      "Note: you may need to restart the kernel to use updated packages.\n"
     ]
    }
   ],
   "source": [
    "pip install cassandra-driver"
   ]
  },
  {
   "cell_type": "code",
   "execution_count": null,
   "metadata": {},
   "outputs": [],
   "source": [
    "pip install astrapy"
   ]
  },
  {
   "cell_type": "code",
   "execution_count": 1,
   "metadata": {},
   "outputs": [
    {
     "ename": "SyntaxError",
     "evalue": "invalid syntax (<ipython-input-1-d8f47ae80823>, line 1)",
     "output_type": "error",
     "traceback": [
      "\u001b[1;36m  File \u001b[1;32m\"<ipython-input-1-d8f47ae80823>\"\u001b[1;36m, line \u001b[1;32m1\u001b[0m\n\u001b[1;33m    export ASTRA_DB_ID=8dbd9aa8-5379-4640-a393-4abbe2eaede5\u001b[0m\n\u001b[1;37m           ^\u001b[0m\n\u001b[1;31mSyntaxError\u001b[0m\u001b[1;31m:\u001b[0m invalid syntax\n"
     ]
    }
   ],
   "source": [
    "ASTRA_DB_ID=8dbd9aa8-5379-4640-a393-4abbe2eaede5\n",
    "ASTRA_DB_REGION=asia-south1\n",
    "ASTRA_DB_APPLICATION_TOKEN=AstraCS:qRurbelIcUsWBnHLLFjZQeJt:8522396c0196d25eb7276005484efadcb5658ea34520fd7aae60a3ec35eb3131"
   ]
  },
  {
   "cell_type": "code",
   "execution_count": 3,
   "metadata": {},
   "outputs": [
    {
     "ename": "ModuleNotFoundError",
     "evalue": "No module named 'astrapy'",
     "output_type": "error",
     "traceback": [
      "\u001b[1;31m---------------------------------------------------------------------------\u001b[0m",
      "\u001b[1;31mModuleNotFoundError\u001b[0m                       Traceback (most recent call last)",
      "\u001b[1;32m<ipython-input-3-d46384d77e71>\u001b[0m in \u001b[0;36m<module>\u001b[1;34m\u001b[0m\n\u001b[1;32m----> 1\u001b[1;33m \u001b[1;32mfrom\u001b[0m \u001b[0mastrapy\u001b[0m\u001b[1;33m.\u001b[0m\u001b[0mrest\u001b[0m \u001b[1;32mimport\u001b[0m \u001b[0mcreate_client\u001b[0m\u001b[1;33m,\u001b[0m \u001b[0mhttp_methods\u001b[0m\u001b[1;33m\u001b[0m\u001b[1;33m\u001b[0m\u001b[0m\n\u001b[0m\u001b[0;32m      2\u001b[0m \u001b[1;32mimport\u001b[0m \u001b[0muuid\u001b[0m\u001b[1;33m\u001b[0m\u001b[1;33m\u001b[0m\u001b[0m\n\u001b[0;32m      3\u001b[0m \u001b[1;33m\u001b[0m\u001b[0m\n\u001b[0;32m      4\u001b[0m \u001b[1;31m# get Astra connection information from environment variables\u001b[0m\u001b[1;33m\u001b[0m\u001b[1;33m\u001b[0m\u001b[1;33m\u001b[0m\u001b[0m\n\u001b[0;32m      5\u001b[0m \u001b[1;33m\u001b[0m\u001b[0m\n",
      "\u001b[1;31mModuleNotFoundError\u001b[0m: No module named 'astrapy'"
     ]
    }
   ],
   "source": [
    "from astrapy.rest import create_client, http_methods\n",
    "import uuid\n",
    "\n",
    "# get Astra connection information from environment variables\n",
    "\n",
    "\n",
    "ASTRA_DB_ID=\"8dbd9aa8-5379-4640-a393-4abbe2eaede5\"\n",
    "ASTRA_DB_REGION=\"asia-south1\"\n",
    "ASTRA_DB_APPLICATION_TOKEN=\"AstraCS:qRurbelIcUsWBnHLLFjZQeJt:8522396c0196d25eb7276005484efadcb5658ea34520fd7aae60a3ec35eb3131\"\n",
    "ASTRA_DB_KEYSPACE = \"main\"\n",
    "ASTRA_DB_COLLECTION = \"test\"\n",
    "\n",
    "# setup an Astra Client\n",
    "astra_http_client = create_client(astra_database_id=ASTRA_DB_ID,\n",
    "                         astra_database_region=ASTRA_DB_REGION,\n",
    "                         astra_application_token=ASTRA_DB_APPLICATION_TOKEN)\n",
    "\n",
    "# create a document on Astra using the Document API\n",
    "doc_uuid = uuid.uuid4()\n",
    "astra_http_client.request(\n",
    "    method=http_methods.PUT,\n",
    "    path=f\"/api/rest/v2/namespaces/{ASTRA_DB_KEYSPACE}/collections/{ASTRA_DB_COLLECTION}/{doc_uuid}\",\n",
    "    json_data={\n",
    "        \"first_name\": \"Cliff\",\n",
    "        \"last_name\": \"Wicklow\",\n",
    "        \"emails\": [\"cliff.wicklow@example.com\"],\n",
    "    })"
   ]
  },
  {
   "cell_type": "code",
   "execution_count": null,
   "metadata": {},
   "outputs": [],
   "source": []
  },
  {
   "cell_type": "code",
   "execution_count": null,
   "metadata": {},
   "outputs": [],
   "source": []
  },
  {
   "cell_type": "code",
   "execution_count": null,
   "metadata": {},
   "outputs": [],
   "source": []
  },
  {
   "cell_type": "code",
   "execution_count": null,
   "metadata": {},
   "outputs": [],
   "source": []
  },
  {
   "cell_type": "code",
   "execution_count": null,
   "metadata": {},
   "outputs": [],
   "source": []
  },
  {
   "cell_type": "code",
   "execution_count": null,
   "metadata": {},
   "outputs": [],
   "source": []
  },
  {
   "cell_type": "code",
   "execution_count": null,
   "metadata": {},
   "outputs": [],
   "source": []
  },
  {
   "cell_type": "code",
   "execution_count": null,
   "metadata": {},
   "outputs": [],
   "source": []
  },
  {
   "cell_type": "code",
   "execution_count": null,
   "metadata": {},
   "outputs": [],
   "source": []
  }
 ],
 "metadata": {
  "kernelspec": {
   "display_name": "Python 3",
   "language": "python",
   "name": "python3"
  },
  "language_info": {
   "codemirror_mode": {
    "name": "ipython",
    "version": 3
   },
   "file_extension": ".py",
   "mimetype": "text/x-python",
   "name": "python",
   "nbconvert_exporter": "python",
   "pygments_lexer": "ipython3",
   "version": "3.8.3"
  }
 },
 "nbformat": 4,
 "nbformat_minor": 4
}
