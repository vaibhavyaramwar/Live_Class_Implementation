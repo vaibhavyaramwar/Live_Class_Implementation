{
 "cells": [
  {
   "cell_type": "code",
   "execution_count": 1,
   "metadata": {},
   "outputs": [
    {
     "name": "stdout",
     "output_type": "stream",
     "text": [
      "Requirement already satisfied: cassandra-driver in c:\\users\\vaibhav.yaramwar\\anaconda3\\lib\\site-packages (3.25.0)\n",
      "Requirement already satisfied: geomet<0.3,>=0.1 in c:\\users\\vaibhav.yaramwar\\anaconda3\\lib\\site-packages (from cassandra-driver) (0.2.1.post1)\n",
      "Requirement already satisfied: six>=1.9 in c:\\users\\vaibhav.yaramwar\\anaconda3\\lib\\site-packages (from cassandra-driver) (1.14.0)\n",
      "Requirement already satisfied: click in c:\\users\\vaibhav.yaramwar\\anaconda3\\lib\\site-packages (from geomet<0.3,>=0.1->cassandra-driver) (7.1.2)\n",
      "Note: you may need to restart the kernel to use updated packages.\n"
     ]
    }
   ],
   "source": [
    "pip install cassandra-driver"
   ]
  },
  {
   "cell_type": "code",
   "execution_count": 4,
   "metadata": {},
   "outputs": [
    {
     "name": "stdout",
     "output_type": "stream",
     "text": [
      "Collecting astrapy\n",
      "  Downloading astrapy-0.3.3.tar.gz (13 kB)\n",
      "Note: you may need to restart the kernel to use updated packages.Collecting requests<3,>=2.27\n",
      "\n"
     ]
    },
    {
     "name": "stderr",
     "output_type": "stream",
     "text": [
      "ERROR: conda 4.10.3 requires ruamel_yaml_conda>=0.11.14, which is not installed.\n",
      "ERROR: dvc 2.5.4 has requirement ruamel.yaml>=0.16.1, but you'll have ruamel-yaml 0.15.87 which is incompatible.\n"
     ]
    },
    {
     "name": "stdout",
     "output_type": "stream",
     "text": [
      "  Downloading requests-2.27.1-py2.py3-none-any.whl (63 kB)\n",
      "Collecting requests_toolbelt<1,>=0.9.1\n",
      "  Downloading requests_toolbelt-0.9.1-py2.py3-none-any.whl (54 kB)\n",
      "Collecting gql>=3.0.0\n",
      "  Downloading gql-3.0.0.tar.gz (141 kB)\n",
      "Collecting charset-normalizer~=2.0.0; python_version >= \"3\"\n",
      "  Downloading charset_normalizer-2.0.12-py3-none-any.whl (39 kB)\n",
      "Requirement already satisfied: idna<4,>=2.5; python_version >= \"3\" in c:\\users\\vaibhav.yaramwar\\anaconda3\\lib\\site-packages (from requests<3,>=2.27->astrapy) (2.10)\n",
      "Requirement already satisfied: urllib3<1.27,>=1.21.1 in c:\\users\\vaibhav.yaramwar\\anaconda3\\lib\\site-packages (from requests<3,>=2.27->astrapy) (1.25.9)\n",
      "Requirement already satisfied: certifi>=2017.4.17 in c:\\users\\vaibhav.yaramwar\\anaconda3\\lib\\site-packages (from requests<3,>=2.27->astrapy) (2021.5.30)\n",
      "Collecting graphql-core<3.3,>=3.2\n",
      "  Downloading graphql_core-3.2.0-py3-none-any.whl (202 kB)\n",
      "Collecting yarl<2.0,>=1.6\n",
      "  Downloading yarl-1.7.2-cp38-cp38-win_amd64.whl (122 kB)\n",
      "Collecting multidict>=4.0\n",
      "  Downloading multidict-6.0.2-cp38-cp38-win_amd64.whl (28 kB)\n",
      "Building wheels for collected packages: astrapy, gql\n",
      "  Building wheel for astrapy (setup.py): started\n",
      "  Building wheel for astrapy (setup.py): finished with status 'done'\n",
      "  Created wheel for astrapy: filename=astrapy-0.3.3-py3-none-any.whl size=16768 sha256=5ff0e7e0b5aed6f63b4b3ccb5f6572cbf05b90a470158d8cf68e9c2cee44e050\n",
      "  Stored in directory: c:\\users\\vaibhav.yaramwar\\appdata\\local\\pip\\cache\\wheels\\bb\\d0\\56\\e866d1ca129d1c4cded14404033d772f181bfd6ee3d6b5f9e7\n",
      "  Building wheel for gql (setup.py): started\n",
      "  Building wheel for gql (setup.py): finished with status 'done'\n",
      "  Created wheel for gql: filename=gql-3.0.0-py2.py3-none-any.whl size=62212 sha256=ffe0518de48de78fb33886c7f6ff7cd214bed9bc937b30d48481ebd00cac347b\n",
      "  Stored in directory: c:\\users\\vaibhav.yaramwar\\appdata\\local\\pip\\cache\\wheels\\c3\\8e\\92\\d5749a6f2919d2313d60922149651062626848252574f1f7e5\n",
      "Successfully built astrapy gql\n",
      "Installing collected packages: charset-normalizer, requests, requests-toolbelt, graphql-core, multidict, yarl, gql, astrapy\n",
      "  Attempting uninstall: requests\n",
      "    Found existing installation: requests 2.24.0\n",
      "    Uninstalling requests-2.24.0:\n",
      "      Successfully uninstalled requests-2.24.0\n",
      "Successfully installed astrapy-0.3.3 charset-normalizer-2.0.12 gql-3.0.0 graphql-core-3.2.0 multidict-6.0.2 requests-2.27.1 requests-toolbelt-0.9.1 yarl-1.7.2\n"
     ]
    }
   ],
   "source": [
    "pip install astrapy"
   ]
  },
  {
   "cell_type": "code",
   "execution_count": 2,
   "metadata": {},
   "outputs": [
    {
     "data": {
      "text/plain": [
       "{'documentId': 'be6db0e1-4bb6-4cd3-a44a-62c7c39b1061'}"
      ]
     },
     "execution_count": 2,
     "metadata": {},
     "output_type": "execute_result"
    }
   ],
   "source": [
    "from astrapy.rest import create_client, http_methods\n",
    "import uuid\n",
    "\n",
    "# get Astra connection information from environment variables\n",
    "\n",
    "\n",
    "ASTRA_DB_ID=\"8dbd9aa8-5379-4640-a393-4abbe2eaede5\"\n",
    "ASTRA_DB_REGION=\"asia-south1\"\n",
    "ASTRA_DB_APPLICATION_TOKEN=\"AstraCS:qRurbelIcUsWBnHLLFjZQeJt:8522396c0196d25eb7276005484efadcb5658ea34520fd7aae60a3ec35eb3131\"\n",
    "ASTRA_DB_KEYSPACE = \"main\"\n",
    "ASTRA_DB_COLLECTION = \"test\"\n",
    "\n",
    "# setup an Astra Client\n",
    "astra_http_client = create_client(astra_database_id=ASTRA_DB_ID,\n",
    "                         astra_database_region=ASTRA_DB_REGION,\n",
    "                         astra_application_token=ASTRA_DB_APPLICATION_TOKEN)\n",
    "\n",
    "# create a document on Astra using the Document API\n",
    "doc_uuid = uuid.uuid4()\n",
    "astra_http_client.request(\n",
    "    method=http_methods.PUT,\n",
    "    path=f\"/api/rest/v2/namespaces/{ASTRA_DB_KEYSPACE}/collections/{ASTRA_DB_COLLECTION}/{doc_uuid}\",\n",
    "    json_data={\n",
    "        \"first_name\": \"Vaibhav\",\n",
    "        \"last_name\": \"Yaramwar\",\n",
    "        \"emails\": [\"vaibhav.yaramwar@gmail.com\"],\n",
    "    })"
   ]
  },
  {
   "cell_type": "code",
   "execution_count": null,
   "metadata": {},
   "outputs": [],
   "source": [
    "astra_http_client.request(method='GET')"
   ]
  },
  {
   "cell_type": "code",
   "execution_count": null,
   "metadata": {},
   "outputs": [],
   "source": []
  },
  {
   "cell_type": "code",
   "execution_count": null,
   "metadata": {},
   "outputs": [],
   "source": []
  },
  {
   "cell_type": "code",
   "execution_count": null,
   "metadata": {},
   "outputs": [],
   "source": []
  },
  {
   "cell_type": "code",
   "execution_count": null,
   "metadata": {},
   "outputs": [],
   "source": []
  },
  {
   "cell_type": "code",
   "execution_count": null,
   "metadata": {},
   "outputs": [],
   "source": []
  },
  {
   "cell_type": "code",
   "execution_count": null,
   "metadata": {},
   "outputs": [],
   "source": []
  },
  {
   "cell_type": "code",
   "execution_count": null,
   "metadata": {},
   "outputs": [],
   "source": []
  },
  {
   "cell_type": "code",
   "execution_count": null,
   "metadata": {},
   "outputs": [],
   "source": []
  }
 ],
 "metadata": {
  "kernelspec": {
   "display_name": "Python 3",
   "language": "python",
   "name": "python3"
  },
  "language_info": {
   "codemirror_mode": {
    "name": "ipython",
    "version": 3
   },
   "file_extension": ".py",
   "mimetype": "text/x-python",
   "name": "python",
   "nbconvert_exporter": "python",
   "pygments_lexer": "ipython3",
   "version": "3.8.3"
  }
 },
 "nbformat": 4,
 "nbformat_minor": 4
}
