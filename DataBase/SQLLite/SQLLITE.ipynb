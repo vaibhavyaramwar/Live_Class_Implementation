{
 "cells": [
  {
   "cell_type": "code",
   "execution_count": 1,
   "metadata": {},
   "outputs": [],
   "source": [
    "import sqlite3"
   ]
  },
  {
   "cell_type": "code",
   "execution_count": 3,
   "metadata": {},
   "outputs": [],
   "source": [
    "db = sqlite3.connect(\"ineuron.db\")"
   ]
  },
  {
   "cell_type": "code",
   "execution_count": 4,
   "metadata": {},
   "outputs": [],
   "source": [
    "cursor = db.cursor()"
   ]
  },
  {
   "cell_type": "code",
   "execution_count": 5,
   "metadata": {},
   "outputs": [
    {
     "data": {
      "text/plain": [
       "<sqlite3.Cursor at 0x285e4c7e030>"
      ]
     },
     "execution_count": 5,
     "metadata": {},
     "output_type": "execute_result"
    }
   ],
   "source": [
    "cursor.execute('create table fsds(name text , batchid int , marks real)')"
   ]
  },
  {
   "cell_type": "code",
   "execution_count": 11,
   "metadata": {},
   "outputs": [
    {
     "data": {
      "text/plain": [
       "<sqlite3.Cursor at 0x285e4c7e030>"
      ]
     },
     "execution_count": 11,
     "metadata": {},
     "output_type": "execute_result"
    }
   ],
   "source": [
    "cursor.execute('insert into fsds(name,batchid,marks) values(\"Vaibhav\",1212121,100)')\n",
    "cursor.execute('insert into fsds(name,batchid,marks) values(\"Vaibhav\",1212121,100)')\n",
    "cursor.execute('insert into fsds(name,batchid,marks) values(\"Vaibhav\",1212121,100)')\n",
    "cursor.execute('insert into fsds(name,batchid,marks) values(\"Vaibhav\",1212121,100)')\n",
    "cursor.execute('insert into fsds(name,batchid,marks) values(\"Vaibhav\",1212121,100)')\n",
    "cursor.execute('insert into fsds(name,batchid,marks) values(\"Vaibhav\",1212121,100)')\n",
    "cursor.execute('insert into fsds(name,batchid,marks) values(\"Vaibhav\",1212121,100)')\n",
    "cursor.execute('insert into fsds(name,batchid,marks) values(\"Vaibhav\",1212121,100)')\n",
    "cursor.execute('insert into fsds(name,batchid,marks) values(\"Vaibhav\",1212121,100)')\n",
    "cursor.execute('insert into fsds(name,batchid,marks) values(\"Vaibhav\",1212121,100)')"
   ]
  },
  {
   "cell_type": "code",
   "execution_count": 12,
   "metadata": {},
   "outputs": [],
   "source": [
    "db.commit()"
   ]
  },
  {
   "cell_type": "code",
   "execution_count": 13,
   "metadata": {},
   "outputs": [
    {
     "name": "stdout",
     "output_type": "stream",
     "text": [
      "('Vaibhav', 1212121, 100.0)\n",
      "('Vaibhav', 1212121, 100.0)\n",
      "('Vaibhav', 1212121, 100.0)\n",
      "('Vaibhav', 1212121, 100.0)\n",
      "('Vaibhav', 1212121, 100.0)\n",
      "('Vaibhav', 1212121, 100.0)\n",
      "('Vaibhav', 1212121, 100.0)\n",
      "('Vaibhav', 1212121, 100.0)\n",
      "('Vaibhav', 1212121, 100.0)\n",
      "('Vaibhav', 1212121, 100.0)\n",
      "('Vaibhav', 1212121, 100.0)\n"
     ]
    }
   ],
   "source": [
    "result = cursor.execute(\"select * from fsds\")\n",
    "for i in result:\n",
    "    print(i)"
   ]
  },
  {
   "cell_type": "code",
   "execution_count": 14,
   "metadata": {},
   "outputs": [],
   "source": [
    "db.close()"
   ]
  },
  {
   "cell_type": "code",
   "execution_count": 15,
   "metadata": {},
   "outputs": [],
   "source": [
    "connect=sqlite3.connect(\"ineuron.db\")"
   ]
  },
  {
   "cell_type": "code",
   "execution_count": 16,
   "metadata": {},
   "outputs": [],
   "source": [
    "cursor=connect.cursor()"
   ]
  },
  {
   "cell_type": "code",
   "execution_count": 22,
   "metadata": {},
   "outputs": [],
   "source": [
    "result = cursor.execute(\"select * from fsds where marks > 95\")"
   ]
  },
  {
   "cell_type": "code",
   "execution_count": 23,
   "metadata": {},
   "outputs": [
    {
     "name": "stdout",
     "output_type": "stream",
     "text": [
      "('Vaibhav', 1212121, 100.0)\n",
      "('Vaibhav', 1212121, 100.0)\n",
      "('Vaibhav', 1212121, 100.0)\n",
      "('Vaibhav', 1212121, 100.0)\n",
      "('Vaibhav', 1212121, 100.0)\n",
      "('Vaibhav', 1212121, 100.0)\n",
      "('Vaibhav', 1212121, 100.0)\n",
      "('Vaibhav', 1212121, 100.0)\n",
      "('Vaibhav', 1212121, 100.0)\n",
      "('Vaibhav', 1212121, 100.0)\n",
      "('Vaibhav', 1212121, 100.0)\n"
     ]
    }
   ],
   "source": [
    "for i in result:\n",
    "    print(i)"
   ]
  },
  {
   "cell_type": "code",
   "execution_count": 25,
   "metadata": {},
   "outputs": [
    {
     "name": "stdout",
     "output_type": "stream",
     "text": [
      "('Vaibhav', 100.0)\n",
      "('Vaibhav', 100.0)\n",
      "('Vaibhav', 100.0)\n",
      "('Vaibhav', 100.0)\n",
      "('Vaibhav', 100.0)\n",
      "('Vaibhav', 100.0)\n",
      "('Vaibhav', 100.0)\n",
      "('Vaibhav', 100.0)\n",
      "('Vaibhav', 100.0)\n",
      "('Vaibhav', 100.0)\n",
      "('Vaibhav', 100.0)\n"
     ]
    }
   ],
   "source": [
    "result = cursor.execute(\"select name,marks from fsds\")\n",
    "for i in result:\n",
    "    print(i)"
   ]
  },
  {
   "cell_type": "code",
   "execution_count": 26,
   "metadata": {},
   "outputs": [
    {
     "name": "stdout",
     "output_type": "stream",
     "text": [
      "('Vaibhav', 100.0)\n",
      "('Vaibhav', 100.0)\n",
      "('Vaibhav', 100.0)\n",
      "('Vaibhav', 100.0)\n",
      "('Vaibhav', 100.0)\n",
      "('Vaibhav', 100.0)\n",
      "('Vaibhav', 100.0)\n",
      "('Vaibhav', 100.0)\n",
      "('Vaibhav', 100.0)\n",
      "('Vaibhav', 100.0)\n",
      "('Vaibhav', 100.0)\n"
     ]
    }
   ],
   "source": [
    "result = cursor.execute(\"select name,marks from fsds order by marks\")\n",
    "for i in result:\n",
    "    print(i)"
   ]
  },
  {
   "cell_type": "code",
   "execution_count": 27,
   "metadata": {},
   "outputs": [],
   "source": [
    "db.close()"
   ]
  },
  {
   "cell_type": "code",
   "execution_count": 39,
   "metadata": {},
   "outputs": [],
   "source": [
    "db = sqlite3.connect(\"person.db\")"
   ]
  },
  {
   "cell_type": "code",
   "execution_count": 40,
   "metadata": {},
   "outputs": [],
   "source": [
    "cursor = db.cursor()"
   ]
  },
  {
   "cell_type": "code",
   "execution_count": 41,
   "metadata": {},
   "outputs": [
    {
     "data": {
      "text/plain": [
       "<sqlite3.Cursor at 0x285e4fcec00>"
      ]
     },
     "execution_count": 41,
     "metadata": {},
     "output_type": "execute_result"
    }
   ],
   "source": [
    "cursor.execute('create table person_table(name text,emailid text,age int,salary real)')"
   ]
  },
  {
   "cell_type": "code",
   "execution_count": 42,
   "metadata": {},
   "outputs": [
    {
     "data": {
      "text/plain": [
       "<sqlite3.Cursor at 0x285e4fcec00>"
      ]
     },
     "execution_count": 42,
     "metadata": {},
     "output_type": "execute_result"
    }
   ],
   "source": [
    "cursor.execute('insert into person_table(name,emailid,age,salary) values(\"Vaibhav\",\"aa.sss@gmail.com\",32,344342)')\n",
    "cursor.execute('insert into person_table(name,emailid,age,salary) values(\"Sudh\",\"sudh.aaaa@gmail.com\",28,2434323)')\n",
    "cursor.execute('insert into person_table(name,emailid,age,salary) values(\"Krish\",\"krish.bbbb@gmail.com\",30,897998)')\n",
    "cursor.execute('insert into person_table(name,emailid,age,salary) values(\"Prashant\",\"prashant.cccc@gmail.com\",26,98789879)')"
   ]
  },
  {
   "cell_type": "code",
   "execution_count": 43,
   "metadata": {},
   "outputs": [],
   "source": [
    "db.commit()"
   ]
  },
  {
   "cell_type": "code",
   "execution_count": 44,
   "metadata": {},
   "outputs": [],
   "source": [
    "result = cursor.execute(\"select * from person_table\")"
   ]
  },
  {
   "cell_type": "code",
   "execution_count": 45,
   "metadata": {},
   "outputs": [
    {
     "name": "stdout",
     "output_type": "stream",
     "text": [
      "('Vaibhav', 'aa.sss@gmail.com', 32, 344342.0)\n",
      "('Sudh', 'sudh.aaaa@gmail.com', 28, 2434323.0)\n",
      "('Krish', 'krish.bbbb@gmail.com', 30, 897998.0)\n",
      "('Prashant', 'prashant.cccc@gmail.com', 26, 98789879.0)\n"
     ]
    }
   ],
   "source": [
    "for i in result:\n",
    "    print(i)"
   ]
  },
  {
   "cell_type": "code",
   "execution_count": 46,
   "metadata": {},
   "outputs": [],
   "source": [
    "db.close()"
   ]
  },
  {
   "cell_type": "code",
   "execution_count": 49,
   "metadata": {},
   "outputs": [],
   "source": [
    "db=sqlite3.connect(\"ineuron.db\")"
   ]
  },
  {
   "cell_type": "code",
   "execution_count": 50,
   "metadata": {},
   "outputs": [],
   "source": [
    "cursor = db.cursor()"
   ]
  },
  {
   "cell_type": "code",
   "execution_count": 51,
   "metadata": {},
   "outputs": [
    {
     "data": {
      "text/plain": [
       "<sqlite3.Cursor at 0x285e499dd50>"
      ]
     },
     "execution_count": 51,
     "metadata": {},
     "output_type": "execute_result"
    }
   ],
   "source": [
    "cursor.execute(\"drop table fsds\")"
   ]
  },
  {
   "cell_type": "code",
   "execution_count": 52,
   "metadata": {},
   "outputs": [
    {
     "ename": "OperationalError",
     "evalue": "no such table: fsds",
     "output_type": "error",
     "traceback": [
      "\u001b[1;31m---------------------------------------------------------------------------\u001b[0m",
      "\u001b[1;31mOperationalError\u001b[0m                          Traceback (most recent call last)",
      "\u001b[1;32m<ipython-input-52-c5647e7d825d>\u001b[0m in \u001b[0;36m<module>\u001b[1;34m\u001b[0m\n\u001b[1;32m----> 1\u001b[1;33m \u001b[0mcursor\u001b[0m\u001b[1;33m.\u001b[0m\u001b[0mexecute\u001b[0m\u001b[1;33m(\u001b[0m\u001b[1;34m\"select * from fsds\"\u001b[0m\u001b[1;33m)\u001b[0m\u001b[1;33m\u001b[0m\u001b[1;33m\u001b[0m\u001b[0m\n\u001b[0m",
      "\u001b[1;31mOperationalError\u001b[0m: no such table: fsds"
     ]
    }
   ],
   "source": [
    "cursor.execute(\"select * from fsds\")"
   ]
  },
  {
   "cell_type": "code",
   "execution_count": 53,
   "metadata": {},
   "outputs": [],
   "source": [
    "db.close()"
   ]
  },
  {
   "cell_type": "code",
   "execution_count": 54,
   "metadata": {},
   "outputs": [],
   "source": [
    "db = sqlite3.connect(\"person.db\")"
   ]
  },
  {
   "cell_type": "code",
   "execution_count": 55,
   "metadata": {},
   "outputs": [],
   "source": [
    "cursor = db.cursor()"
   ]
  },
  {
   "cell_type": "code",
   "execution_count": 64,
   "metadata": {},
   "outputs": [],
   "source": [
    "result = cursor.execute(\"select * from person_table limit 2\")"
   ]
  },
  {
   "cell_type": "code",
   "execution_count": 65,
   "metadata": {},
   "outputs": [
    {
     "name": "stdout",
     "output_type": "stream",
     "text": [
      "('Vaibhav', 'aa.sss@gmail.com', 32, 344342.0)\n",
      "('Sudh', 'sudh.aaaa@gmail.com', 28, 2434323.0)\n"
     ]
    }
   ],
   "source": [
    "for i in result:\n",
    "    print(i)"
   ]
  },
  {
   "cell_type": "code",
   "execution_count": 66,
   "metadata": {},
   "outputs": [],
   "source": [
    "db.close()"
   ]
  },
  {
   "cell_type": "code",
   "execution_count": 67,
   "metadata": {},
   "outputs": [],
   "source": [
    "db = sqlite3.connect(\"joindb.db\")"
   ]
  },
  {
   "cell_type": "code",
   "execution_count": 68,
   "metadata": {},
   "outputs": [],
   "source": [
    "cursor = db.cursor()"
   ]
  },
  {
   "cell_type": "code",
   "execution_count": 69,
   "metadata": {},
   "outputs": [
    {
     "data": {
      "text/plain": [
       "<sqlite3.Cursor at 0x285e529d2d0>"
      ]
     },
     "execution_count": 69,
     "metadata": {},
     "output_type": "execute_result"
    }
   ],
   "source": [
    "cursor.execute('create table student(studentId int , studentname text , studentmailid text , marks int)')"
   ]
  },
  {
   "cell_type": "code",
   "execution_count": 70,
   "metadata": {},
   "outputs": [
    {
     "data": {
      "text/plain": [
       "<sqlite3.Cursor at 0x285e529d2d0>"
      ]
     },
     "execution_count": 70,
     "metadata": {},
     "output_type": "execute_result"
    }
   ],
   "source": [
    "cursor.execute('create table Address(studentId int,pincode int,location text,nearby text,phoneno int)')"
   ]
  },
  {
   "cell_type": "code",
   "execution_count": 71,
   "metadata": {},
   "outputs": [
    {
     "data": {
      "text/plain": [
       "<sqlite3.Cursor at 0x285e529d2d0>"
      ]
     },
     "execution_count": 71,
     "metadata": {},
     "output_type": "execute_result"
    }
   ],
   "source": [
    "cursor.execute('insert into student(studentId,studentname,studentmailid,marks) values (1,\"Vaibhav\",\"abc.def@gmail.com\",234)')\n",
    "cursor.execute('insert into student(studentId,studentname,studentmailid,marks) values (2,\"Amar\",\"pqr.yui@gmail.com\",134)')\n",
    "cursor.execute('insert into student(studentId,studentname,studentmailid,marks) values (3,\"Prashant\",\"bbb.mmm@gmail.com\",634)')\n",
    "cursor.execute('insert into student(studentId,studentname,studentmailid,marks) values (4,\"Sudhanshu\",\"abc1.def@gmail.com\",734)')\n",
    "cursor.execute('insert into student(studentId,studentname,studentmailid,marks) values (5,\"Paul\",\"abc2.def@gmail.com\",134)')\n",
    "cursor.execute('insert into student(studentId,studentname,studentmailid,marks) values (6,\"Sunny\",\"abc3.def@gmail.com\",834)')\n",
    "cursor.execute('insert into student(studentId,studentname,studentmailid,marks) values (7,\"Nirav\",\"abc4.def@gmail.com\",334)')\n",
    "cursor.execute('insert into student(studentId,studentname,studentmailid,marks) values (8,\"Raj\",\"abc5.def@gmail.com\",227)')\n",
    "cursor.execute('insert into student(studentId,studentname,studentmailid,marks) values (9,\"Sachin\",\"abc6.def@gmail.com\",224)')\n",
    "cursor.execute('insert into student(studentId,studentname,studentmailid,marks) values (10,\"Rahul\",\"abc7.def@gmail.com\",274)')"
   ]
  },
  {
   "cell_type": "code",
   "execution_count": 73,
   "metadata": {},
   "outputs": [
    {
     "data": {
      "text/plain": [
       "<sqlite3.Cursor at 0x285e529d2d0>"
      ]
     },
     "execution_count": 73,
     "metadata": {},
     "output_type": "execute_result"
    }
   ],
   "source": [
    "cursor.execute('insert into Address(studentId,pincode,location,nearby,phoneno) values (1,122141,\"sdfsd\",\"abcccc\",324234)')\n",
    "cursor.execute('insert into Address(studentId,pincode,location,nearby,phoneno) values (2,345453,\"jkkh\",\"abcccc\",324234)')\n",
    "cursor.execute('insert into Address(studentId,pincode,location,nearby,phoneno) values (3,675675,\"ghfg\",\"abcccc\",324234)')\n",
    "cursor.execute('insert into Address(studentId,pincode,location,nearby,phoneno) values (4,789789,\"fhfg\",\"abcccc\",324234)')\n",
    "cursor.execute('insert into Address(studentId,pincode,location,nearby,phoneno) values (5,677644,\"kljk\",\"abcccc\",324234)')\n",
    "cursor.execute('insert into Address(studentId,pincode,location,nearby,phoneno) values (6,565665,\"hjkh\",\"abcccc\",324234)')\n",
    "cursor.execute('insert into Address(studentId,pincode,location,nearby,phoneno) values (7,334224,\"jhghg\",\"abcccc\",324234)')\n",
    "cursor.execute('insert into Address(studentId,pincode,location,nearby,phoneno) values (8,878876,\"jmbjh\",\"abcccc\",324234)')\n",
    "cursor.execute('insert into Address(studentId,pincode,location,nearby,phoneno) values (9,887989,\",jhkjk\",\"abcccc\",324234)')\n",
    "cursor.execute('insert into Address(studentId,pincode,location,nearby,phoneno) values (10,97897,\"mnjhjk\",\"abcccc\",324234)')"
   ]
  },
  {
   "cell_type": "code",
   "execution_count": 74,
   "metadata": {},
   "outputs": [],
   "source": [
    "result = cursor.execute(\"select * from student s,address a where s.studentId = a.studentId\")"
   ]
  },
  {
   "cell_type": "code",
   "execution_count": 75,
   "metadata": {},
   "outputs": [
    {
     "name": "stdout",
     "output_type": "stream",
     "text": [
      "(1, 'Vaibhav', 'abc.def@gmail.com', 234, 1, 122141, 'sdfsd', 'abcccc', 324234)\n",
      "(1, 'Vaibhav', 'abc.def@gmail.com', 234, 1, 122141, 'solapur', 'abcccc', 324234)\n",
      "(2, 'Amar', 'pqr.yui@gmail.com', 134, 2, 345453, 'jkkh', 'abcccc', 324234)\n",
      "(3, 'Prashant', 'bbb.mmm@gmail.com', 634, 3, 675675, 'ghfg', 'abcccc', 324234)\n",
      "(4, 'Sudhanshu', 'abc1.def@gmail.com', 734, 4, 789789, 'fhfg', 'abcccc', 324234)\n",
      "(5, 'Paul', 'abc2.def@gmail.com', 134, 5, 677644, 'kljk', 'abcccc', 324234)\n",
      "(6, 'Sunny', 'abc3.def@gmail.com', 834, 6, 565665, 'hjkh', 'abcccc', 324234)\n",
      "(7, 'Nirav', 'abc4.def@gmail.com', 334, 7, 334224, 'jhghg', 'abcccc', 324234)\n",
      "(8, 'Raj', 'abc5.def@gmail.com', 227, 8, 878876, 'jmbjh', 'abcccc', 324234)\n",
      "(9, 'Sachin', 'abc6.def@gmail.com', 224, 9, 887989, ',jhkjk', 'abcccc', 324234)\n",
      "(10, 'Rahul', 'abc7.def@gmail.com', 274, 10, 97897, 'mnjhjk', 'abcccc', 324234)\n"
     ]
    }
   ],
   "source": [
    "for i in result:\n",
    "    print(i)"
   ]
  },
  {
   "cell_type": "code",
   "execution_count": null,
   "metadata": {},
   "outputs": [],
   "source": []
  },
  {
   "cell_type": "code",
   "execution_count": null,
   "metadata": {},
   "outputs": [],
   "source": []
  },
  {
   "cell_type": "code",
   "execution_count": null,
   "metadata": {},
   "outputs": [],
   "source": []
  },
  {
   "cell_type": "code",
   "execution_count": null,
   "metadata": {},
   "outputs": [],
   "source": []
  },
  {
   "cell_type": "code",
   "execution_count": null,
   "metadata": {},
   "outputs": [],
   "source": []
  },
  {
   "cell_type": "code",
   "execution_count": null,
   "metadata": {},
   "outputs": [],
   "source": []
  },
  {
   "cell_type": "code",
   "execution_count": null,
   "metadata": {},
   "outputs": [],
   "source": []
  },
  {
   "cell_type": "code",
   "execution_count": null,
   "metadata": {},
   "outputs": [],
   "source": []
  }
 ],
 "metadata": {
  "kernelspec": {
   "display_name": "Python 3",
   "language": "python",
   "name": "python3"
  },
  "language_info": {
   "codemirror_mode": {
    "name": "ipython",
    "version": 3
   },
   "file_extension": ".py",
   "mimetype": "text/x-python",
   "name": "python",
   "nbconvert_exporter": "python",
   "pygments_lexer": "ipython3",
   "version": "3.8.3"
  }
 },
 "nbformat": 4,
 "nbformat_minor": 4
}
